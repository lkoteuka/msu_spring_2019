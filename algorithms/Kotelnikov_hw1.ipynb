{
 "cells": [
  {
   "cell_type": "markdown",
   "metadata": {},
   "source": [
    "**Общая информация**\n",
    "\n",
    "**Срок сдачи:** 20 марта 2019, 06:00 <br\\>\n",
    "**Штраф за опоздание:** -1 балл после 06:00 20 марта, -2 балла после 06:00 27 марта, -3 балла после 06:00 3 апреля\n",
    "\n",
    "При отправлении ДЗ указывайте фамилию в названии файла\n",
    "Присылать ДЗ необходимо в виде ссылки на свой github репозиторий в slack @alkhamush\n",
    "\n",
    "Необходимо в slack скинуть ссылку в личный чат @alkhamush\n",
    "Пример ссылки:\n",
    "https://github.com/stroykova/spheremailru/stroykova_hw1.ipynb \n",
    "\n",
    "\n",
    "Используйте данный Ipython Notebook при оформлении домашнего задания."
   ]
  },
  {
   "cell_type": "markdown",
   "metadata": {},
   "source": [
    "###### Задание 1 (2 баллов)\n",
    "Реализовать KNN в классе MyKNeighborsClassifier (обязательное условие: точность не ниже sklearn реализации)\n",
    "Разберитесь самостоятельно, какая мера расстояния используется в KNeighborsClassifier дефолтно и реализуйте свой алгоритм именно с этой мерой. Самостоятельно разберитесь, как считается score из KNeighborsClassifier и реализуйте аналог в своём классе. Score не должен уступать значению KNN из sklearn\n",
    "\n",
    "###### Задание 2 (2 балла)\n",
    "Добиться скорости работы на fit,  predict и predict_proba сравнимой со sklearn для iris и mnist\n",
    "Для этого используем numpy\n",
    "\n",
    "###### Задание 3 (2 балла)\n",
    "Для iris найдите такой параметр n_neighbors, при котором выдаётся наилучший score. Нарисуйте график зависимости score от n_neighbors\n",
    "\n",
    "###### Задание 4 (3 балла)\n",
    "Добавить algorithm='kd_tree' в реализацию KNN (использовать KDTree из sklearn.neighbors). Значение n_neighbors нужно взять из задания 3. Добиться скорости работы на fit,  predict и predict_proba сравнимой со sklearn для iris и mnist\n",
    "Для этого используем numpy. Score не должен уступать значению KNN из sklearn\n",
    "\n",
    "###### Задание 5 (1 балла)\n",
    "Описать для чего нужны следующие библиотеки/классы/функции (список будет ниже)\n",
    "\n",
    "**Штрафные баллы:**\n",
    "\n",
    "1. Невыполнение PEP8 -1 балл\n",
    "2. Отсутствие фамилии в имени скрипта (скрипт должен называться по аналогии со stroykova_hw1.ipynb) -1 балл\n",
    "3. Все строчки должны быть выполнены. Нужно, чтобы output команды можно было увидеть уже в git'е. В противном случае -1 балл\n",
    "4. При оформлении ДЗ нужно пользоваться данным файлом в качестве шаблона. Не нужно удалять и видоизменять структуру кода и текст. В противном случае -1 балл\n"
   ]
  },
  {
   "cell_type": "code",
   "execution_count": 1,
   "metadata": {},
   "outputs": [],
   "source": [
    "import numpy as np\n",
    "import matplotlib.pyplot as plt\n",
    "\n",
    "import seaborn as sns\n",
    "from sklearn import datasets\n",
    "from sklearn.base import ClassifierMixin\n",
    "from sklearn.datasets import fetch_mldata\n",
    "from sklearn.neighbors.base import NeighborsBase, KNeighborsMixin, SupervisedIntegerMixin \n",
    "from sklearn.model_selection import train_test_split\n",
    "from sklearn.neighbors import KNeighborsClassifier\n",
    "from sklearn.neighbors import KDTree\n",
    "from sklearn.metrics import pairwise_distances_chunked as p_d_c\n",
    "from sklearn.datasets import fetch_openml\n",
    "#%load_ext pycodestyle_magic"
   ]
  },
  {
   "cell_type": "code",
   "execution_count": 2,
   "metadata": {},
   "outputs": [],
   "source": [
    "#%%pycodestyle\n",
    "\n",
    "class MyKNeighborsClassifier(NeighborsBase, KNeighborsMixin, SupervisedIntegerMixin, ClassifierMixin):\n",
    "    \n",
    "    def __init__(self, n_neighbors, algorithm='brute'):\n",
    "        self.n_neighbors = n_neighbors\n",
    "        self.algorithm = algorithm\n",
    "    \n",
    "    def fit(self, X, y):\n",
    "        self.X_train = np.copy(X)\n",
    "        self.y_train = np.copy(y)\n",
    "        if self.algorithm == 'kd_tree':\n",
    "            self.X_train = KDTree(X)\n",
    "    \n",
    "    def predict(self, X):\n",
    "        if self.algorithm == 'brute':\n",
    "            dist_mtr = list(p_d_c(X, self.X_train))[0]\n",
    "            arr_cls = self.y_train[np.argpartition(dist_mtr, self.n_neighbors, axis=1)[:,:self.n_neighbors]]\n",
    "        if self.algorithm == 'kd_tree':\n",
    "            arr_cls = self.y_train[self.X_train.query(X, k=self.n_neighbors, return_distance=False)]\n",
    "        return np.asarray([np.unique(i)[np.argmax(np.unique(i, return_counts=True)[1])] for i in arr_cls])\n",
    "                 \n",
    "    def predict_proba(self, X):\n",
    "        n_classes = len(np.unique(self.y_train))\n",
    "        if self.algorithm == 'brute':\n",
    "            dist_mtr = list(p_d_c(X, self.X_train))[0]\n",
    "            arr_cls = self.y_train[np.argpartition(dist_mtr, self.n_neighbors, axis=1)[:,:self.n_neighbors]]\n",
    "        if self.algorithm == 'kd_tree':\n",
    "            y_buf = np.asarray(self.y_train, dtype=np.uint32)\n",
    "            arr_cls = y_buf[self.X_train.query(X, k=self.n_neighbors, return_distance=False)]\n",
    "        answ = np.apply_along_axis(np.bincount, 1, np.asarray(arr_cls, dtype='int64'), minlength=n_classes)\n",
    "        return answ / np.sum(answ, axis=1).reshape((answ.shape[0],1))\n",
    "    \n",
    "    def score(self, X, y):\n",
    "        if self.algorithm == 'brute':\n",
    "            dist_mtr = list(p_d_c(X, self.X_train))[0]\n",
    "            arr_cls = self.y_train[np.argpartition(dist_mtr, self.n_neighbors, axis=1)[:,:self.n_neighbors]]\n",
    "        if self.algorithm == 'kd_tree':\n",
    "            arr_cls = self.y_train[self.X_train.query(X, k=self.n_neighbors, return_distance=False)]\n",
    "        arr_sc = np.asarray([np.unique(i)[np.argmax(np.unique(i, return_counts=True)[1])] for i in arr_cls])\n",
    "        return np.count_nonzero(y == arr_sc) / y.shape[0]"
   ]
  },
  {
   "cell_type": "markdown",
   "metadata": {},
   "source": [
    "**IRIS**"
   ]
  },
  {
   "cell_type": "code",
   "execution_count": 3,
   "metadata": {},
   "outputs": [],
   "source": [
    "iris = datasets.load_iris()"
   ]
  },
  {
   "cell_type": "code",
   "execution_count": 4,
   "metadata": {},
   "outputs": [],
   "source": [
    "X_train, X_test, y_train, y_test = train_test_split(iris.data, iris.target, test_size=0.1, stratify=iris.target)"
   ]
  },
  {
   "cell_type": "code",
   "execution_count": 5,
   "metadata": {},
   "outputs": [],
   "source": [
    "clf = KNeighborsClassifier(n_neighbors=2, algorithm='brute')\n",
    "my_clf = MyKNeighborsClassifier(n_neighbors=2, algorithm='brute')"
   ]
  },
  {
   "cell_type": "code",
   "execution_count": 6,
   "metadata": {},
   "outputs": [
    {
     "name": "stdout",
     "output_type": "stream",
     "text": [
      "CPU times: user 873 µs, sys: 683 µs, total: 1.56 ms\n",
      "Wall time: 1.29 ms\n"
     ]
    },
    {
     "data": {
      "text/plain": [
       "KNeighborsClassifier(algorithm='brute', leaf_size=30, metric='minkowski',\n",
       "           metric_params=None, n_jobs=None, n_neighbors=2, p=2,\n",
       "           weights='uniform')"
      ]
     },
     "execution_count": 6,
     "metadata": {},
     "output_type": "execute_result"
    }
   ],
   "source": [
    "%time clf.fit(X_train, y_train)"
   ]
  },
  {
   "cell_type": "code",
   "execution_count": 7,
   "metadata": {},
   "outputs": [
    {
     "name": "stdout",
     "output_type": "stream",
     "text": [
      "CPU times: user 37 µs, sys: 18 µs, total: 55 µs\n",
      "Wall time: 46 µs\n"
     ]
    }
   ],
   "source": [
    "%time my_clf.fit(X_train, y_train)"
   ]
  },
  {
   "cell_type": "code",
   "execution_count": 8,
   "metadata": {},
   "outputs": [
    {
     "name": "stdout",
     "output_type": "stream",
     "text": [
      "CPU times: user 3.76 ms, sys: 1.64 ms, total: 5.4 ms\n",
      "Wall time: 3.94 ms\n"
     ]
    },
    {
     "data": {
      "text/plain": [
       "array([1, 2, 1, 0, 0, 2, 0, 1, 1, 2, 0, 0, 2, 1, 1])"
      ]
     },
     "execution_count": 8,
     "metadata": {},
     "output_type": "execute_result"
    }
   ],
   "source": [
    "%time clf.predict(X_test)"
   ]
  },
  {
   "cell_type": "code",
   "execution_count": 9,
   "metadata": {},
   "outputs": [
    {
     "name": "stdout",
     "output_type": "stream",
     "text": [
      "CPU times: user 2.31 ms, sys: 1.82 ms, total: 4.13 ms\n",
      "Wall time: 2.71 ms\n"
     ]
    },
    {
     "data": {
      "text/plain": [
       "array([1, 2, 1, 0, 0, 2, 0, 1, 1, 2, 0, 0, 2, 1, 1])"
      ]
     },
     "execution_count": 9,
     "metadata": {},
     "output_type": "execute_result"
    }
   ],
   "source": [
    "%time my_clf.predict(X_test)\n"
   ]
  },
  {
   "cell_type": "code",
   "execution_count": 10,
   "metadata": {},
   "outputs": [
    {
     "name": "stdout",
     "output_type": "stream",
     "text": [
      "CPU times: user 1.59 ms, sys: 1.09 ms, total: 2.68 ms\n",
      "Wall time: 1.7 ms\n"
     ]
    },
    {
     "data": {
      "text/plain": [
       "array([[0., 1., 0.],\n",
       "       [0., 0., 1.],\n",
       "       [0., 1., 0.],\n",
       "       [1., 0., 0.],\n",
       "       [1., 0., 0.],\n",
       "       [0., 0., 1.],\n",
       "       [1., 0., 0.],\n",
       "       [0., 1., 0.],\n",
       "       [0., 1., 0.],\n",
       "       [0., 0., 1.],\n",
       "       [1., 0., 0.],\n",
       "       [1., 0., 0.],\n",
       "       [0., 0., 1.],\n",
       "       [0., 1., 0.],\n",
       "       [0., 1., 0.]])"
      ]
     },
     "execution_count": 10,
     "metadata": {},
     "output_type": "execute_result"
    }
   ],
   "source": [
    "%time clf.predict_proba(X_test)"
   ]
  },
  {
   "cell_type": "code",
   "execution_count": 11,
   "metadata": {},
   "outputs": [
    {
     "name": "stdout",
     "output_type": "stream",
     "text": [
      "CPU times: user 1.21 ms, sys: 227 µs, total: 1.44 ms\n",
      "Wall time: 1.43 ms\n"
     ]
    },
    {
     "data": {
      "text/plain": [
       "array([[0., 1., 0.],\n",
       "       [0., 0., 1.],\n",
       "       [0., 1., 0.],\n",
       "       [1., 0., 0.],\n",
       "       [1., 0., 0.],\n",
       "       [0., 0., 1.],\n",
       "       [1., 0., 0.],\n",
       "       [0., 1., 0.],\n",
       "       [0., 1., 0.],\n",
       "       [0., 0., 1.],\n",
       "       [1., 0., 0.],\n",
       "       [1., 0., 0.],\n",
       "       [0., 0., 1.],\n",
       "       [0., 1., 0.],\n",
       "       [0., 1., 0.]])"
      ]
     },
     "execution_count": 11,
     "metadata": {},
     "output_type": "execute_result"
    }
   ],
   "source": [
    "%time my_clf.predict_proba(X_test)"
   ]
  },
  {
   "cell_type": "code",
   "execution_count": 12,
   "metadata": {},
   "outputs": [
    {
     "data": {
      "text/plain": [
       "0.9333333333333333"
      ]
     },
     "execution_count": 12,
     "metadata": {},
     "output_type": "execute_result"
    }
   ],
   "source": [
    "clf.score(X_test, y_test)"
   ]
  },
  {
   "cell_type": "code",
   "execution_count": 13,
   "metadata": {},
   "outputs": [
    {
     "data": {
      "text/plain": [
       "0.9333333333333333"
      ]
     },
     "execution_count": 13,
     "metadata": {},
     "output_type": "execute_result"
    }
   ],
   "source": [
    "my_clf.score(X_test, y_test)"
   ]
  },
  {
   "cell_type": "markdown",
   "metadata": {},
   "source": [
    "Задание 3"
   ]
  },
  {
   "cell_type": "code",
   "execution_count": 14,
   "metadata": {},
   "outputs": [
    {
     "data": {
      "image/png": "[encoded data removed]",
      "text/plain": [
       "<Figure size 1008x432 with 1 Axes>"
      ]
     },
     "metadata": {
      "needs_background": "light"
     },
     "output_type": "display_data"
    },
    {
     "name": "stdout",
     "output_type": "stream",
     "text": [
      "Best n_neighbors for my_clf:\n",
      " (array([ 6,  7,  8,  9, 10, 11, 12, 13, 14, 16, 18, 19, 20, 21, 22]),)\n"
     ]
    }
   ],
   "source": [
    "result = np.zeros(80)\n",
    "n_neighbors = np.arange(1,81)\n",
    "for i in n_neighbors:\n",
    "    my_clf = MyKNeighborsClassifier(n_neighbors=i)\n",
    "    my_clf.fit(X_train, y_train)\n",
    "    result[i - 1] = my_clf.score(X_test, y_test)\n",
    "\n",
    "fig = plt.figure(figsize=(14,6))\n",
    "ax = fig.add_subplot(111)\n",
    "ax.set_xlabel('n_neighbors')\n",
    "ax.set_ylabel('KNN score')\n",
    "ax.set_title('Dependence of the result on n_neighbors')\n",
    "ax.plot(n_neighbors, result, marker=\"|\")\n",
    "plt.show()\n",
    "print(\"Best n_neighbors for my_clf:\\n\", np.where(result == result.max()))"
   ]
  },
  {
   "cell_type": "markdown",
   "metadata": {},
   "source": [
    "**MNIST**"
   ]
  },
  {
   "cell_type": "code",
   "execution_count": 15,
   "metadata": {},
   "outputs": [],
   "source": [
    "#mnist = fetch_mldata('MNIST original')\n",
    "mnist = fetch_openml('mnist_784', version=1, cache=True)"
   ]
  },
  {
   "cell_type": "code",
   "execution_count": 16,
   "metadata": {},
   "outputs": [],
   "source": [
    "X_train, X_test, y_train, y_test = train_test_split(mnist.data, mnist.target, test_size=0.01, stratify=mnist.target)"
   ]
  },
  {
   "cell_type": "code",
   "execution_count": 17,
   "metadata": {},
   "outputs": [],
   "source": [
    "clf = KNeighborsClassifier(n_neighbors=2, algorithm='brute')\n",
    "my_clf = MyKNeighborsClassifier(n_neighbors=2, algorithm='brute')"
   ]
  },
  {
   "cell_type": "code",
   "execution_count": 18,
   "metadata": {},
   "outputs": [
    {
     "name": "stdout",
     "output_type": "stream",
     "text": [
      "CPU times: user 148 ms, sys: 2 ms, total: 150 ms\n",
      "Wall time: 149 ms\n"
     ]
    },
    {
     "data": {
      "text/plain": [
       "KNeighborsClassifier(algorithm='brute', leaf_size=30, metric='minkowski',\n",
       "           metric_params=None, n_jobs=None, n_neighbors=2, p=2,\n",
       "           weights='uniform')"
      ]
     },
     "execution_count": 18,
     "metadata": {},
     "output_type": "execute_result"
    }
   ],
   "source": [
    "%time clf.fit(X_train, y_train)"
   ]
  },
  {
   "cell_type": "code",
   "execution_count": 19,
   "metadata": {},
   "outputs": [
    {
     "name": "stdout",
     "output_type": "stream",
     "text": [
      "CPU times: user 185 ms, sys: 161 ms, total: 346 ms\n",
      "Wall time: 175 ms\n"
     ]
    }
   ],
   "source": [
    "%time my_clf.fit(X_train, y_train)"
   ]
  },
  {
   "cell_type": "code",
   "execution_count": 20,
   "metadata": {},
   "outputs": [
    {
     "name": "stdout",
     "output_type": "stream",
     "text": [
      "CPU times: user 2.75 s, sys: 260 ms, total: 3.01 s\n",
      "Wall time: 1.74 s\n"
     ]
    },
    {
     "data": {
      "text/plain": [
       "array(['5', '3', '1', '0', '1', '1', '8', '8', '5', '3', '6', '2', '2',\n",
       "       '0', '1', '6', '7', '1', '3', '2', '4', '7', '4', '0', '3', '6',\n",
       "       '9', '8', '4', '4', '2', '0', '5', '3', '1', '8', '4', '3', '6',\n",
       "       '4', '2', '0', '5', '0', '0', '4', '7', '7', '6', '3', '9', '3',\n",
       "       '8', '7', '2', '0', '8', '3', '0', '3', '4', '8', '6', '8', '5',\n",
       "       '9', '9', '3', '3', '7', '7', '8', '7', '8', '8', '7', '0', '5',\n",
       "       '5', '9', '8', '7', '1', '8', '4', '1', '9', '5', '4', '3', '1',\n",
       "       '6', '1', '9', '5', '3', '7', '4', '4', '6', '8', '9', '5', '0',\n",
       "       '3', '7', '1', '1', '0', '0', '0', '4', '7', '0', '1', '1', '6',\n",
       "       '3', '0', '2', '5', '8', '9', '2', '8', '4', '3', '8', '2', '1',\n",
       "       '9', '9', '4', '6', '1', '7', '7', '6', '0', '5', '8', '7', '3',\n",
       "       '5', '0', '6', '1', '0', '8', '0', '8', '0', '9', '1', '3', '0',\n",
       "       '2', '1', '9', '4', '7', '9', '6', '6', '2', '4', '2', '1', '4',\n",
       "       '2', '3', '3', '5', '2', '5', '1', '0', '2', '0', '6', '9', '0',\n",
       "       '3', '9', '7', '5', '0', '4', '3', '7', '1', '4', '2', '7', '2',\n",
       "       '4', '2', '0', '3', '1', '9', '4', '3', '0', '2', '1', '6', '0',\n",
       "       '5', '3', '1', '4', '9', '3', '4', '4', '5', '4', '2', '1', '1',\n",
       "       '3', '1', '7', '8', '1', '2', '1', '2', '9', '8', '2', '5', '3',\n",
       "       '2', '1', '4', '7', '1', '4', '2', '2', '9', '1', '5', '3', '1',\n",
       "       '8', '3', '5', '7', '7', '3', '2', '6', '0', '4', '8', '2', '8',\n",
       "       '3', '9', '0', '9', '9', '8', '9', '1', '4', '5', '5', '1', '4',\n",
       "       '7', '1', '7', '5', '7', '1', '6', '7', '1', '5', '0', '4', '6',\n",
       "       '4', '9', '8', '2', '7', '3', '0', '3', '1', '1', '7', '9', '1',\n",
       "       '2', '7', '8', '1', '9', '9', '9', '4', '1', '0', '2', '1', '2',\n",
       "       '7', '6', '8', '7', '2', '9', '8', '3', '1', '2', '1', '4', '6',\n",
       "       '2', '9', '1', '0', '1', '4', '6', '3', '9', '9', '1', '3', '1',\n",
       "       '3', '8', '2', '5', '1', '2', '4', '2', '0', '7', '5', '6', '0',\n",
       "       '5', '1', '8', '0', '8', '8', '6', '5', '6', '5', '9', '8', '8',\n",
       "       '3', '7', '0', '7', '2', '5', '3', '1', '0', '1', '9', '7', '1',\n",
       "       '8', '9', '1', '9', '6', '7', '6', '0', '7', '0', '5', '3', '0',\n",
       "       '5', '7', '7', '8', '8', '8', '3', '1', '0', '3', '7', '1', '3',\n",
       "       '6', '9', '4', '1', '8', '1', '3', '5', '2', '7', '4', '5', '5',\n",
       "       '4', '2', '9', '6', '4', '4', '0', '0', '4', '9', '1', '6', '7',\n",
       "       '6', '9', '0', '3', '3', '0', '3', '4', '6', '8', '0', '7', '8',\n",
       "       '7', '9', '5', '5', '9', '7', '1', '3', '5', '6', '2', '1', '8',\n",
       "       '4', '4', '5', '6', '1', '8', '3', '2', '0', '0', '5', '1', '6',\n",
       "       '6', '0', '6', '5', '5', '0', '9', '4', '5', '5', '8', '7', '6',\n",
       "       '9', '3', '5', '6', '5', '6', '3', '4', '4', '6', '2', '1', '1',\n",
       "       '5', '4', '6', '6', '2', '7', '8', '7', '1', '9', '7', '5', '1',\n",
       "       '4', '9', '7', '3', '6', '6', '7', '1', '8', '7', '5', '2', '0',\n",
       "       '4', '8', '9', '0', '7', '2', '8', '6', '9', '2', '9', '0', '2',\n",
       "       '6', '1', '0', '7', '2', '3', '3', '5', '5', '7', '2', '8', '2',\n",
       "       '9', '1', '6', '6', '4', '0', '9', '7', '9', '5', '8', '6', '4',\n",
       "       '9', '2', '6', '0', '7', '3', '8', '2', '6', '1', '8', '7', '2',\n",
       "       '2', '2', '3', '1', '9', '1', '1', '6', '2', '5', '3', '7', '4',\n",
       "       '0', '2', '6', '6', '9', '6', '5', '3', '3', '4', '6', '2', '5',\n",
       "       '8', '6', '9', '6', '9', '4', '3', '9', '1', '3', '0', '0', '8',\n",
       "       '7', '5', '0', '9', '3', '5', '0', '4', '7', '7', '4', '9', '8',\n",
       "       '3', '1', '6', '7', '9', '4', '6', '4', '7', '6', '0', '2', '3',\n",
       "       '2', '7', '1', '0', '8', '7', '5', '4', '4', '3', '7', '8', '0',\n",
       "       '2', '4', '4', '8', '8', '9', '9', '0', '4', '7', '6', '0', '6',\n",
       "       '2', '9', '5', '5', '9', '1', '3', '7', '9', '7', '9', '3', '3',\n",
       "       '0', '6', '3', '9', '5', '7', '1', '2', '7', '7', '9', '5', '0',\n",
       "       '2', '6', '4', '3', '8', '6', '2', '0', '1', '1', '3'],\n",
       "      dtype=object)"
      ]
     },
     "execution_count": 20,
     "metadata": {},
     "output_type": "execute_result"
    }
   ],
   "source": [
    "%time clf.predict(X_test)"
   ]
  },
  {
   "cell_type": "code",
   "execution_count": 21,
   "metadata": {},
   "outputs": [
    {
     "name": "stdout",
     "output_type": "stream",
     "text": [
      "CPU times: user 2.9 s, sys: 250 ms, total: 3.15 s\n",
      "Wall time: 1.84 s\n"
     ]
    },
    {
     "data": {
      "text/plain": [
       "array(['5', '3', '1', '0', '1', '1', '8', '8', '5', '3', '6', '2', '2',\n",
       "       '0', '1', '6', '7', '1', '3', '2', '4', '7', '4', '0', '3', '6',\n",
       "       '9', '8', '4', '4', '2', '0', '5', '3', '1', '8', '4', '3', '6',\n",
       "       '4', '2', '0', '5', '0', '0', '4', '7', '7', '6', '3', '9', '3',\n",
       "       '8', '7', '2', '0', '8', '3', '0', '3', '4', '8', '6', '8', '5',\n",
       "       '9', '9', '3', '3', '7', '7', '8', '7', '8', '8', '7', '0', '5',\n",
       "       '5', '9', '8', '7', '1', '8', '4', '1', '9', '5', '4', '3', '1',\n",
       "       '6', '1', '9', '5', '3', '7', '4', '4', '6', '8', '9', '5', '0',\n",
       "       '3', '7', '1', '1', '0', '0', '0', '4', '7', '0', '1', '1', '6',\n",
       "       '3', '0', '2', '5', '8', '9', '2', '8', '4', '3', '8', '2', '1',\n",
       "       '9', '9', '4', '6', '1', '7', '7', '6', '0', '5', '8', '7', '3',\n",
       "       '5', '0', '6', '1', '0', '8', '0', '8', '0', '9', '1', '3', '0',\n",
       "       '2', '1', '9', '4', '7', '9', '6', '6', '2', '4', '2', '1', '4',\n",
       "       '2', '3', '3', '5', '2', '5', '1', '0', '2', '0', '6', '9', '0',\n",
       "       '3', '9', '7', '5', '0', '4', '3', '7', '1', '4', '2', '7', '2',\n",
       "       '4', '2', '0', '3', '1', '9', '4', '3', '0', '2', '1', '6', '0',\n",
       "       '5', '3', '1', '4', '9', '3', '4', '4', '5', '4', '2', '1', '1',\n",
       "       '3', '1', '7', '8', '1', '2', '1', '2', '9', '8', '2', '5', '3',\n",
       "       '2', '1', '4', '7', '1', '4', '2', '2', '9', '1', '5', '3', '1',\n",
       "       '8', '3', '5', '7', '7', '3', '2', '6', '0', '4', '8', '2', '8',\n",
       "       '3', '9', '0', '9', '9', '8', '9', '1', '4', '5', '5', '1', '4',\n",
       "       '7', '1', '7', '5', '7', '1', '6', '7', '1', '5', '0', '4', '6',\n",
       "       '4', '9', '8', '2', '7', '3', '0', '3', '1', '1', '7', '9', '1',\n",
       "       '2', '7', '8', '1', '9', '9', '9', '4', '1', '0', '2', '1', '2',\n",
       "       '7', '6', '8', '7', '2', '9', '8', '3', '1', '2', '1', '4', '6',\n",
       "       '2', '9', '1', '0', '1', '4', '6', '3', '9', '9', '1', '3', '1',\n",
       "       '3', '8', '2', '5', '1', '2', '4', '2', '0', '7', '5', '6', '0',\n",
       "       '5', '1', '8', '0', '8', '8', '6', '5', '6', '5', '9', '8', '8',\n",
       "       '3', '7', '0', '7', '2', '5', '3', '1', '0', '1', '9', '7', '1',\n",
       "       '8', '9', '1', '9', '6', '7', '6', '0', '7', '0', '5', '3', '0',\n",
       "       '5', '7', '7', '8', '8', '8', '3', '1', '0', '3', '7', '1', '3',\n",
       "       '6', '9', '4', '1', '8', '1', '3', '5', '2', '7', '4', '5', '5',\n",
       "       '4', '2', '9', '6', '4', '4', '0', '0', '4', '9', '1', '6', '7',\n",
       "       '6', '9', '0', '3', '3', '0', '3', '4', '6', '8', '0', '7', '8',\n",
       "       '7', '9', '5', '5', '9', '7', '1', '3', '5', '6', '2', '1', '8',\n",
       "       '4', '4', '5', '6', '1', '8', '3', '2', '0', '0', '5', '1', '6',\n",
       "       '6', '0', '6', '5', '5', '0', '9', '4', '5', '5', '8', '7', '6',\n",
       "       '9', '3', '5', '6', '5', '6', '3', '4', '4', '6', '2', '1', '1',\n",
       "       '5', '4', '6', '6', '2', '7', '8', '7', '1', '9', '7', '5', '1',\n",
       "       '4', '9', '7', '3', '6', '6', '7', '1', '8', '7', '5', '2', '0',\n",
       "       '4', '8', '9', '0', '7', '2', '8', '6', '9', '2', '9', '0', '2',\n",
       "       '6', '1', '0', '7', '2', '3', '3', '5', '5', '7', '2', '8', '2',\n",
       "       '9', '1', '6', '6', '4', '0', '9', '7', '9', '5', '8', '6', '4',\n",
       "       '9', '2', '6', '0', '7', '3', '8', '2', '6', '1', '8', '7', '2',\n",
       "       '2', '2', '3', '1', '9', '1', '1', '6', '2', '5', '3', '7', '4',\n",
       "       '0', '2', '6', '6', '9', '6', '5', '3', '3', '4', '6', '2', '5',\n",
       "       '8', '6', '9', '6', '9', '4', '3', '9', '1', '3', '0', '0', '8',\n",
       "       '7', '5', '0', '9', '3', '5', '0', '4', '7', '7', '4', '9', '8',\n",
       "       '3', '1', '6', '7', '9', '4', '6', '4', '7', '6', '0', '2', '3',\n",
       "       '2', '7', '1', '0', '8', '7', '5', '4', '4', '3', '7', '8', '0',\n",
       "       '2', '4', '4', '8', '8', '9', '9', '0', '4', '7', '6', '0', '6',\n",
       "       '2', '9', '5', '5', '9', '1', '3', '7', '9', '7', '9', '3', '3',\n",
       "       '0', '6', '3', '9', '5', '7', '1', '2', '7', '7', '9', '5', '0',\n",
       "       '2', '6', '4', '3', '8', '6', '2', '0', '1', '1', '3'], dtype='<U1')"
      ]
     },
     "execution_count": 21,
     "metadata": {},
     "output_type": "execute_result"
    }
   ],
   "source": [
    "%time my_clf.predict(X_test)"
   ]
  },
  {
   "cell_type": "code",
   "execution_count": 22,
   "metadata": {},
   "outputs": [
    {
     "name": "stdout",
     "output_type": "stream",
     "text": [
      "CPU times: user 2.57 s, sys: 242 ms, total: 2.81 s\n",
      "Wall time: 1.72 s\n"
     ]
    },
    {
     "data": {
      "text/plain": [
       "array([[0., 0., 0., ..., 0., 0., 0.],\n",
       "       [0., 0., 0., ..., 0., 0., 0.],\n",
       "       [0., 1., 0., ..., 0., 0., 0.],\n",
       "       ...,\n",
       "       [0., 1., 0., ..., 0., 0., 0.],\n",
       "       [0., 1., 0., ..., 0., 0., 0.],\n",
       "       [0., 0., 0., ..., 0., 0., 0.]])"
      ]
     },
     "execution_count": 22,
     "metadata": {},
     "output_type": "execute_result"
    }
   ],
   "source": [
    "%time clf.predict_proba(X_test)"
   ]
  },
  {
   "cell_type": "code",
   "execution_count": 23,
   "metadata": {},
   "outputs": [
    {
     "name": "stdout",
     "output_type": "stream",
     "text": [
      "CPU times: user 2.9 s, sys: 251 ms, total: 3.15 s\n",
      "Wall time: 1.84 s\n"
     ]
    },
    {
     "data": {
      "text/plain": [
       "array([[0., 0., 0., ..., 0., 0., 0.],\n",
       "       [0., 0., 0., ..., 0., 0., 0.],\n",
       "       [0., 1., 0., ..., 0., 0., 0.],\n",
       "       ...,\n",
       "       [0., 1., 0., ..., 0., 0., 0.],\n",
       "       [0., 1., 0., ..., 0., 0., 0.],\n",
       "       [0., 0., 0., ..., 0., 0., 0.]])"
      ]
     },
     "execution_count": 23,
     "metadata": {},
     "output_type": "execute_result"
    }
   ],
   "source": [
    "%time my_clf.predict_proba(X_test)"
   ]
  },
  {
   "cell_type": "code",
   "execution_count": 24,
   "metadata": {},
   "outputs": [
    {
     "data": {
      "text/plain": [
       "0.9728571428571429"
      ]
     },
     "execution_count": 24,
     "metadata": {},
     "output_type": "execute_result"
    }
   ],
   "source": [
    "clf.score(X_test, y_test)"
   ]
  },
  {
   "cell_type": "code",
   "execution_count": 25,
   "metadata": {},
   "outputs": [
    {
     "data": {
      "text/plain": [
       "0.9728571428571429"
      ]
     },
     "execution_count": 25,
     "metadata": {},
     "output_type": "execute_result"
    }
   ],
   "source": [
    "my_clf.score(X_test, y_test)"
   ]
  },
  {
   "cell_type": "markdown",
   "metadata": {},
   "source": [
    "Задание 4"
   ]
  },
  {
   "cell_type": "code",
   "execution_count": 26,
   "metadata": {},
   "outputs": [],
   "source": [
    "clf = KNeighborsClassifier(n_neighbors=2, algorithm='kd_tree')\n",
    "my_clf = MyKNeighborsClassifier(n_neighbors=2, algorithm='kd_tree')"
   ]
  },
  {
   "cell_type": "code",
   "execution_count": 27,
   "metadata": {},
   "outputs": [],
   "source": [
    "X_train, X_test, y_train, y_test = train_test_split(mnist.data, mnist.target, test_size=0.01, stratify=mnist.target)"
   ]
  },
  {
   "cell_type": "code",
   "execution_count": 28,
   "metadata": {},
   "outputs": [
    {
     "name": "stdout",
     "output_type": "stream",
     "text": [
      "CPU times: user 35.4 s, sys: 137 ms, total: 35.5 s\n",
      "Wall time: 35.4 s\n"
     ]
    },
    {
     "data": {
      "text/plain": [
       "KNeighborsClassifier(algorithm='kd_tree', leaf_size=30, metric='minkowski',\n",
       "           metric_params=None, n_jobs=None, n_neighbors=2, p=2,\n",
       "           weights='uniform')"
      ]
     },
     "execution_count": 28,
     "metadata": {},
     "output_type": "execute_result"
    }
   ],
   "source": [
    "%time clf.fit(X_train, y_train)"
   ]
  },
  {
   "cell_type": "code",
   "execution_count": 29,
   "metadata": {},
   "outputs": [
    {
     "name": "stdout",
     "output_type": "stream",
     "text": [
      "CPU times: user 35.6 s, sys: 418 ms, total: 36 s\n",
      "Wall time: 35.4 s\n"
     ]
    }
   ],
   "source": [
    "%time my_clf.fit(X_train, y_train)"
   ]
  },
  {
   "cell_type": "code",
   "execution_count": 30,
   "metadata": {},
   "outputs": [
    {
     "name": "stdout",
     "output_type": "stream",
     "text": [
      "CPU times: user 1min 5s, sys: 40.5 ms, total: 1min 5s\n",
      "Wall time: 1min 5s\n"
     ]
    },
    {
     "data": {
      "text/plain": [
       "array(['7', '9', '7', '9', '7', '8', '3', '2', '6', '9', '0', '6', '3',\n",
       "       '2', '9', '7', '9', '8', '3', '5', '8', '4', '9', '6', '3', '6',\n",
       "       '6', '4', '4', '3', '5', '0', '7', '1', '2', '0', '2', '2', '6',\n",
       "       '3', '9', '2', '4', '1', '7', '9', '9', '1', '1', '3', '1', '2',\n",
       "       '5', '0', '0', '7', '0', '5', '9', '7', '2', '5', '8', '3', '5',\n",
       "       '1', '1', '3', '2', '7', '3', '3', '5', '0', '9', '3', '9', '5',\n",
       "       '3', '1', '5', '3', '2', '8', '5', '4', '8', '1', '1', '1', '3',\n",
       "       '9', '2', '4', '6', '8', '5', '9', '4', '1', '2', '9', '1', '8',\n",
       "       '1', '9', '5', '1', '1', '0', '2', '2', '0', '8', '0', '8', '0',\n",
       "       '3', '0', '7', '5', '9', '7', '0', '2', '2', '1', '5', '4', '3',\n",
       "       '1', '9', '8', '6', '2', '2', '0', '9', '0', '5', '1', '7', '1',\n",
       "       '3', '2', '7', '4', '1', '7', '5', '8', '6', '3', '7', '5', '2',\n",
       "       '9', '9', '4', '7', '3', '7', '6', '0', '8', '2', '3', '5', '5',\n",
       "       '9', '7', '2', '0', '4', '1', '2', '0', '3', '8', '1', '9', '4',\n",
       "       '4', '8', '7', '2', '8', '9', '0', '4', '1', '5', '9', '1', '4',\n",
       "       '1', '6', '7', '5', '3', '0', '9', '0', '3', '1', '9', '7', '3',\n",
       "       '6', '4', '3', '0', '5', '1', '3', '0', '5', '4', '6', '6', '0',\n",
       "       '7', '5', '6', '7', '6', '5', '9', '1', '9', '4', '5', '3', '9',\n",
       "       '1', '9', '8', '1', '4', '4', '8', '6', '0', '8', '7', '0', '1',\n",
       "       '0', '7', '6', '0', '5', '0', '1', '5', '4', '7', '0', '6', '8',\n",
       "       '6', '8', '7', '0', '3', '4', '2', '0', '7', '3', '5', '6', '2',\n",
       "       '8', '0', '3', '8', '6', '0', '1', '3', '5', '1', '9', '4', '8',\n",
       "       '5', '4', '7', '1', '6', '9', '7', '1', '9', '6', '8', '6', '1',\n",
       "       '1', '3', '0', '4', '7', '7', '3', '6', '4', '5', '1', '1', '0',\n",
       "       '8', '2', '8', '6', '9', '9', '3', '0', '1', '1', '8', '5', '2',\n",
       "       '1', '2', '9', '2', '0', '0', '3', '6', '7', '3', '6', '5', '7',\n",
       "       '8', '7', '1', '0', '8', '9', '0', '8', '1', '8', '6', '7', '4',\n",
       "       '1', '0', '1', '9', '1', '2', '0', '1', '8', '2', '2', '4', '5',\n",
       "       '1', '7', '3', '1', '4', '7', '9', '4', '8', '3', '6', '7', '6',\n",
       "       '1', '3', '4', '3', '5', '6', '4', '5', '5', '4', '8', '1', '7',\n",
       "       '8', '9', '3', '9', '5', '7', '8', '2', '5', '0', '3', '7', '4',\n",
       "       '1', '5', '7', '2', '4', '6', '2', '2', '4', '6', '3', '5', '1',\n",
       "       '8', '9', '2', '6', '6', '4', '3', '5', '7', '7', '1', '1', '6',\n",
       "       '4', '3', '2', '5', '7', '2', '7', '2', '4', '1', '6', '0', '3',\n",
       "       '3', '9', '3', '5', '1', '7', '9', '4', '3', '7', '4', '5', '6',\n",
       "       '6', '7', '1', '4', '7', '0', '0', '5', '4', '1', '2', '5', '6',\n",
       "       '6', '4', '1', '4', '8', '3', '1', '0', '7', '1', '0', '8', '0',\n",
       "       '0', '7', '0', '4', '0', '2', '7', '6', '3', '0', '4', '2', '8',\n",
       "       '5', '3', '2', '5', '3', '3', '3', '3', '6', '4', '0', '5', '0',\n",
       "       '0', '7', '2', '0', '3', '8', '0', '6', '9', '1', '9', '6', '1',\n",
       "       '4', '5', '9', '3', '2', '8', '3', '7', '1', '1', '4', '2', '5',\n",
       "       '4', '2', '8', '9', '4', '7', '8', '7', '2', '9', '3', '4', '0',\n",
       "       '4', '3', '6', '8', '7', '5', '5', '3', '7', '0', '9', '2', '5',\n",
       "       '1', '5', '6', '1', '2', '4', '2', '5', '6', '7', '3', '1', '5',\n",
       "       '5', '8', '3', '9', '7', '6', '0', '8', '9', '3', '1', '8', '6',\n",
       "       '0', '7', '4', '7', '8', '1', '1', '7', '6', '3', '3', '9', '5',\n",
       "       '9', '5', '8', '0', '9', '8', '4', '8', '1', '6', '2', '9', '4',\n",
       "       '0', '9', '3', '9', '8', '2', '8', '4', '3', '7', '8', '7', '4',\n",
       "       '7', '6', '0', '6', '2', '5', '3', '0', '8', '9', '4', '8', '2',\n",
       "       '8', '8', '2', '2', '5', '6', '4', '9', '4', '5', '6', '7', '1',\n",
       "       '4', '8', '1', '0', '7', '1', '6', '6', '9', '9', '4', '6', '0',\n",
       "       '9', '9', '7', '8', '1', '7', '3', '6', '1', '2', '9', '4', '2',\n",
       "       '2', '2', '6', '2', '6', '3', '7', '8', '1', '0', '3', '9', '6',\n",
       "       '7', '2', '0', '0', '0', '2', '2', '1', '1', '8', '6'],\n",
       "      dtype=object)"
      ]
     },
     "execution_count": 30,
     "metadata": {},
     "output_type": "execute_result"
    }
   ],
   "source": [
    "%time clf.predict(X_test)"
   ]
  },
  {
   "cell_type": "code",
   "execution_count": 31,
   "metadata": {},
   "outputs": [
    {
     "name": "stdout",
     "output_type": "stream",
     "text": [
      "CPU times: user 57.1 s, sys: 28.7 ms, total: 57.2 s\n",
      "Wall time: 57.2 s\n"
     ]
    },
    {
     "data": {
      "text/plain": [
       "array(['7', '9', '7', '9', '7', '8', '3', '2', '6', '9', '0', '6', '3',\n",
       "       '2', '9', '7', '9', '8', '3', '5', '8', '4', '9', '6', '3', '6',\n",
       "       '6', '4', '4', '3', '5', '0', '7', '1', '2', '0', '2', '2', '6',\n",
       "       '3', '9', '2', '4', '1', '7', '9', '9', '1', '1', '3', '1', '2',\n",
       "       '5', '0', '0', '7', '0', '5', '9', '7', '2', '5', '8', '3', '5',\n",
       "       '1', '1', '3', '2', '7', '3', '3', '5', '0', '9', '3', '9', '5',\n",
       "       '3', '1', '5', '3', '2', '8', '5', '4', '8', '1', '1', '1', '3',\n",
       "       '9', '2', '4', '6', '8', '5', '9', '4', '1', '2', '9', '1', '8',\n",
       "       '1', '9', '5', '1', '1', '0', '2', '2', '0', '8', '0', '8', '0',\n",
       "       '3', '0', '7', '5', '9', '7', '0', '2', '2', '1', '5', '4', '3',\n",
       "       '1', '9', '8', '6', '2', '2', '0', '9', '0', '5', '1', '7', '1',\n",
       "       '3', '2', '7', '4', '1', '7', '5', '8', '6', '3', '7', '5', '2',\n",
       "       '9', '9', '4', '7', '3', '7', '6', '0', '8', '2', '3', '5', '5',\n",
       "       '9', '7', '2', '0', '4', '1', '2', '0', '3', '8', '1', '9', '4',\n",
       "       '4', '8', '7', '2', '8', '9', '0', '4', '1', '5', '9', '1', '4',\n",
       "       '1', '6', '7', '5', '3', '0', '9', '0', '3', '1', '9', '7', '3',\n",
       "       '6', '4', '3', '0', '5', '1', '3', '0', '5', '4', '6', '6', '0',\n",
       "       '7', '5', '6', '7', '6', '5', '9', '1', '9', '4', '5', '3', '9',\n",
       "       '1', '9', '8', '1', '4', '4', '8', '6', '0', '8', '7', '0', '1',\n",
       "       '0', '7', '6', '0', '5', '0', '1', '5', '4', '7', '0', '6', '8',\n",
       "       '6', '8', '7', '0', '3', '4', '2', '0', '7', '3', '5', '6', '2',\n",
       "       '8', '0', '3', '8', '6', '0', '1', '3', '5', '1', '9', '4', '8',\n",
       "       '5', '4', '7', '1', '6', '9', '7', '1', '9', '6', '8', '6', '1',\n",
       "       '1', '3', '0', '4', '7', '7', '3', '6', '4', '5', '1', '1', '0',\n",
       "       '8', '2', '8', '6', '9', '9', '3', '0', '1', '1', '8', '5', '2',\n",
       "       '1', '2', '9', '2', '0', '0', '3', '6', '7', '3', '6', '5', '7',\n",
       "       '8', '7', '1', '0', '8', '9', '0', '8', '1', '8', '6', '7', '4',\n",
       "       '1', '0', '1', '9', '1', '2', '0', '1', '8', '2', '2', '4', '5',\n",
       "       '1', '7', '3', '1', '4', '7', '9', '4', '8', '3', '6', '7', '6',\n",
       "       '1', '3', '4', '3', '5', '6', '4', '5', '5', '4', '8', '1', '7',\n",
       "       '8', '9', '3', '9', '5', '7', '8', '2', '5', '0', '3', '7', '4',\n",
       "       '1', '5', '7', '2', '4', '6', '2', '2', '4', '6', '3', '5', '1',\n",
       "       '8', '9', '2', '6', '6', '4', '3', '5', '7', '7', '1', '1', '6',\n",
       "       '4', '3', '2', '5', '7', '2', '7', '2', '4', '1', '6', '0', '3',\n",
       "       '3', '9', '3', '5', '1', '7', '9', '4', '3', '7', '4', '5', '6',\n",
       "       '6', '7', '1', '4', '7', '0', '0', '5', '4', '1', '2', '5', '6',\n",
       "       '6', '4', '1', '4', '8', '3', '1', '0', '7', '1', '0', '8', '0',\n",
       "       '0', '7', '0', '4', '0', '2', '7', '6', '3', '0', '4', '2', '8',\n",
       "       '5', '3', '2', '5', '3', '3', '3', '3', '6', '4', '0', '5', '0',\n",
       "       '0', '7', '2', '0', '3', '8', '0', '6', '9', '1', '9', '6', '1',\n",
       "       '4', '5', '9', '3', '2', '8', '3', '7', '1', '1', '4', '2', '5',\n",
       "       '4', '2', '8', '9', '4', '7', '8', '7', '2', '9', '3', '4', '0',\n",
       "       '4', '3', '6', '8', '7', '5', '5', '3', '7', '0', '9', '2', '5',\n",
       "       '1', '5', '6', '1', '2', '4', '2', '5', '6', '7', '3', '1', '5',\n",
       "       '5', '8', '3', '9', '7', '6', '0', '8', '9', '3', '1', '8', '6',\n",
       "       '0', '7', '4', '7', '8', '1', '1', '7', '6', '3', '3', '9', '5',\n",
       "       '9', '5', '8', '0', '9', '8', '4', '8', '1', '6', '2', '9', '4',\n",
       "       '0', '9', '3', '9', '8', '2', '8', '4', '3', '7', '8', '7', '4',\n",
       "       '7', '6', '0', '6', '2', '5', '3', '0', '8', '9', '4', '8', '2',\n",
       "       '8', '8', '2', '2', '5', '6', '4', '9', '4', '5', '6', '7', '1',\n",
       "       '4', '8', '1', '0', '7', '1', '6', '6', '9', '9', '4', '6', '0',\n",
       "       '9', '9', '7', '8', '1', '7', '3', '6', '1', '2', '9', '4', '2',\n",
       "       '2', '2', '6', '2', '6', '3', '7', '8', '1', '0', '3', '9', '6',\n",
       "       '7', '2', '0', '0', '0', '2', '2', '1', '1', '8', '6'], dtype='<U1')"
      ]
     },
     "execution_count": 31,
     "metadata": {},
     "output_type": "execute_result"
    }
   ],
   "source": [
    "%time my_clf.predict(X_test)"
   ]
  },
  {
   "cell_type": "code",
   "execution_count": 32,
   "metadata": {},
   "outputs": [
    {
     "name": "stdout",
     "output_type": "stream",
     "text": [
      "CPU times: user 1min 5s, sys: 36.9 ms, total: 1min 5s\n",
      "Wall time: 1min 5s\n"
     ]
    },
    {
     "data": {
      "text/plain": [
       "array([[0., 0., 0., ..., 1., 0., 0.],\n",
       "       [0., 0., 0., ..., 0., 0., 1.],\n",
       "       [0., 0., 0., ..., 1., 0., 0.],\n",
       "       ...,\n",
       "       [0., 1., 0., ..., 0., 0., 0.],\n",
       "       [0., 0., 0., ..., 0., 1., 0.],\n",
       "       [0., 0., 0., ..., 0., 0., 0.]])"
      ]
     },
     "execution_count": 32,
     "metadata": {},
     "output_type": "execute_result"
    }
   ],
   "source": [
    "%time clf.predict_proba(X_test)"
   ]
  },
  {
   "cell_type": "code",
   "execution_count": 33,
   "metadata": {},
   "outputs": [
    {
     "name": "stdout",
     "output_type": "stream",
     "text": [
      "CPU times: user 57.2 s, sys: 31.3 ms, total: 57.2 s\n",
      "Wall time: 57.2 s\n"
     ]
    },
    {
     "data": {
      "text/plain": [
       "array([[0., 0., 0., ..., 1., 0., 0.],\n",
       "       [0., 0., 0., ..., 0., 0., 1.],\n",
       "       [0., 0., 0., ..., 1., 0., 0.],\n",
       "       ...,\n",
       "       [0., 1., 0., ..., 0., 0., 0.],\n",
       "       [0., 0., 0., ..., 0., 1., 0.],\n",
       "       [0., 0., 0., ..., 0., 0., 0.]])"
      ]
     },
     "execution_count": 33,
     "metadata": {},
     "output_type": "execute_result"
    }
   ],
   "source": [
    "%time my_clf.predict_proba(X_test)"
   ]
  },
  {
   "cell_type": "code",
   "execution_count": 34,
   "metadata": {},
   "outputs": [
    {
     "data": {
      "text/plain": [
       "0.9657142857142857"
      ]
     },
     "execution_count": 34,
     "metadata": {},
     "output_type": "execute_result"
    }
   ],
   "source": [
    "clf.score(X_test, y_test)"
   ]
  },
  {
   "cell_type": "code",
   "execution_count": 35,
   "metadata": {},
   "outputs": [
    {
     "data": {
      "text/plain": [
       "0.9657142857142857"
      ]
     },
     "execution_count": 35,
     "metadata": {},
     "output_type": "execute_result"
    }
   ],
   "source": [
    "my_clf.score(X_test, y_test)"
   ]
  },
  {
   "cell_type": "markdown",
   "metadata": {},
   "source": [
    "Задание 5"
   ]
  },
  {
   "cell_type": "code",
   "execution_count": 36,
   "metadata": {},
   "outputs": [],
   "source": [
    "# seaborn - библиотека, предназначенная для визуализации данных\n",
    "# matplotlib - библиотека, предназначенная для визуализации данных\n",
    "# train_test_split - функция, позволяющая разделить датасет на train и test выборки\n",
    "# Pipelin%load_ext e (from sklearn.pipeline import Pipeline) - функция, необходимая для совокупности последовательных преобразований\n",
    "# и для предобработки данных\n",
    "# StandardScaler (from sklearn.preprocessing import StandardScaler) - преобразует данные так, что\n",
    "# они будут иметь среднее значение равное 0 и стандартное отклонение равное 1\n",
    "# ClassifierMixin - Mixin-класс для всех классификаторов (в sklearn)\n",
    "# NeighborsBase - базовый класс для всех KNN алгоритмов (в sklearn)\n",
    "# KNeighborsMixin - Mixin-класс для реализации разных алгоритмов поиска K ближайших соседей\n",
    "# SupervisedIntegerMixin - Mixin-класс, предназначенный для замешиваний метода fit (mix in)"
   ]
  }
 ],
 "metadata": {
  "kernelspec": {
   "display_name": "Python 3",
   "language": "python",
   "name": "python3"
  },
  "language_info": {
   "codemirror_mode": {
    "name": "ipython",
    "version": 3
   },
   "file_extension": ".py",
   "mimetype": "text/x-python",
   "name": "python",
   "nbconvert_exporter": "python",
   "pygments_lexer": "ipython3",
   "version": "3.7.1"
  }
 },
 "nbformat": 4,
 "nbformat_minor": 2
}
